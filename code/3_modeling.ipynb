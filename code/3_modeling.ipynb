{
 "cells": [
  {
   "cell_type": "code",
   "execution_count": 137,
   "metadata": {},
   "outputs": [],
   "source": [
    "import pandas as pd\n",
    "import numpy as np\n",
    "import re\n",
    "import string\n",
    "import matplotlib.pyplot as plt\n",
    "import matplotlib.style as style\n",
    "\n",
    "\n",
    "from sklearn.pipeline import Pipeline\n",
    "from sklearn.feature_extraction.text import TfidfVectorizer, CountVectorizer\n",
    "from sklearn.model_selection import train_test_split, GridSearchCV, RandomizedSearchCV\n",
    "\n",
    "\n",
    "# logistic regression\n",
    "from sklearn.linear_model import LogisticRegression\n",
    "# knn\n",
    "from sklearn.neighbors import KNeighborsClassifier\n",
    "#random forest\n",
    "from sklearn.ensemble import RandomForestClassifier, ExtraTreesClassifier\n",
    "#naive bayes\n",
    "from sklearn.naive_bayes import MultinomialNB\n",
    "\n",
    "# metrics  \n",
    "from sklearn.metrics import confusion_matrix, ConfusionMatrixDisplay, classification_report, RocCurveDisplay, roc_curve, roc_auc_score, auc,plot_roc_curve, accuracy_score, precision_score, recall_score, f1_score\n",
    "\n",
    "# pickle\n",
    "import pickle"
   ]
  },
  {
   "attachments": {},
   "cell_type": "markdown",
   "metadata": {},
   "source": [
    "# III. Modeling \n",
    "\n",
    "### Project Contents\n",
    "\n",
    "1. [Data Cleaning](../code/1_data_cleaning.ipynb)\n",
    "2. [Data Visualization](../code/2_eda.ipynb)\n",
    "3. [Classifcation Model Comparison](../code/3_modeling.ipynb) [This Notebook]\n",
    "\n",
    "---\n",
    "\n",
    "### Notebook Purpose\n",
    "\n",
    "This notebook uses the cleaned data from notebook 1 and fits various regression models and text pre-processors in an effort to develop a robust text classication model. \n",
    "\n",
    "---"
   ]
  },
  {
   "attachments": {},
   "cell_type": "markdown",
   "metadata": {},
   "source": [
    "Read in .CSV data"
   ]
  },
  {
   "cell_type": "code",
   "execution_count": 3,
   "metadata": {},
   "outputs": [],
   "source": [
    "wsb_df = pd.read_csv('../data/wsb_df_clean.csv')\n",
    "inv_df = pd.read_csv('../data/inv_df_clean.csv')\n",
    "\n",
    "# concat both dataframes\n",
    "df = pd.concat([inv_df, wsb_df], axis=0)"
   ]
  },
  {
   "attachments": {},
   "cell_type": "markdown",
   "metadata": {},
   "source": [
    "# Modeling Overview\n",
    "\n",
    "At a high level, the modelling process will proceed as follows:\n",
    "\n",
    "1. Split the data into training and testing sets.  \n",
    "2. Transform the data using a Count Vectorizer or TF-IDF Vectorizer.\n",
    "3. Use an iterative Random and Grid Search process to train various models and transformers to find the best model and hyperparameter tuning.\n",
    "4. Use the final trained production model to determine whether the text came from r/WallStreetBets or r/Investing.\n",
    "\n",
    "---\n",
    "\n",
    "## Data Pre-Processing\n",
    "\n",
    "The title and selftext features in our datasets have already been lemmatized. We will further process the documents by tokenizing them (splitting sentences into individual, constituent parts) using two different transformers, a TF-IDF Vectorizer and a Count Vectorizer. By iteratively searching over the models and transformers, we will select the transformer that yields the most superior results. \n",
    "\n",
    "### 1.  TF-IDF Vectorizer  \n",
    "\n",
    "TF-IDF stands for *Term Frequency - Inverse Document Frequency* and is a statistical measure that evaluates how relevant a word is to a document or a collection of documents. ([SOURCE](https://monkeylearn.com/blog/what-is-tf-idf/)). \n",
    "\n",
    "It is calculated by multiplying how many times a word appears in a document by the inverse document frequency of the word across a set of documents. By doing this we can weight words by frequency and importance, such that a word that is very common in the subreddits, for example, *the*, will be ranked low even though it appears many times, and a word such as *Tesla* will be ranked higher as it has more relevance. \n",
    "\n",
    "### 2. Count Vectorizer\n",
    "\n",
    "A count vectorizer is a simpler version of the TF-IDF Vectorizer. The count vectorizer simply creates a matrix of each word and its number of appearances in a collection of documents, and, unlike the TF-IDF vectorizer, does not penalize the words based on inverse document frequency. ([SOURCE](https://enjoymachinelearning.com/blog/countvectorizer-vs-tfidfvectorizer/))\n",
    "\n",
    "\n",
    "## Models\n",
    "\n",
    "In order to select the best possible model we will evaluate the effectiveness of 2 different transformers and 5 different classification models. We will evaluate the following models:\n",
    "\n",
    "### 1. Logistic Regression\n",
    "\n",
    "Logistic regression is used to predict the probability that an instance belongs to a certain class. It does this by using a sigmoid function, returning values between 0 and 1 that can lead to a classification. Logistic regression is powerful and somewhat intuitive, however it is sensitive to outlier values, assumes a linear relationship between the features, and requires a balance of classes. [(SOURCE)](https://www.geeksforgeeks.org/advantages-and-disadvantages-of-logistic-regression/).\n",
    "\n",
    "### 2. $k$-Nearest Neighbors\n",
    "\n",
    "$k$-nearest neighbors renders a classification decision based on the average of a distance metric (euclidean distance or manhattan distance, etc.) amongst $k$-nearest neighbor points. The algorithm is simple and intuitive and can be powerful, however it is computationally expensive, prone to overfitting, and as it is distance based, is sensitive to scale of the features. [(SOURCE)](https://medium.com/swlh/k-nearest-neighbor-ca2593d7a3c4).\n",
    "\n",
    "### 3. Random Forest Classifier/Extra Trees Classifer\n",
    "\n",
    "The Random Forest Classifier is a type of decision tree algorithm. Decision trees make use *recursive partitioning*, wherein the data is repeatedly divided and subdivided with the goal of making the outcomes in each final subdivision as homogenous as possible. Homogeneity is assessed at each partition using a metric called *impurity*. For each proposed partition in the data, impurity is measured for each of the partitions that result from the split, and a weighted average is calculated. Whichever partition yields the lowest weighted average is selected. The tree stops growing when the leaves are completely pure. (Bruce, Bruce, Gedeck, *Practical Statistics for Data Scientists*, 2017)\n",
    "\n",
    "In Random Forests, multiple decision trees are used, wherein the decision trees are trained using a random subset of the features and a random subset of the training data. Each tree within the forest is trained using bootstrapped data (randomly drawn data sampled with replacement) from the original dataset. Thus the trees are relatively uncorrelated and the un-correlated decision trees render a classification as an ensemble, with the final classification being average combination of the decision trees.\n",
    "\n",
    "Extra trees is very similar to a Random Forest, however the bootstrapping is eschewed. The advantage of a Random Forest over Extra-Trees is increased accuracy, however at the expense of extra computational time. ([SOURCE](https://quantdare.com/what-is-the-difference-between-extra-trees-and-random-forest/)).\n",
    "\n",
    "\n",
    "### 4. Naive Bayes\n",
    "\n",
    "Naive Bayes is classification algorithm built on Bayes Theorem. Bayes' theorem is a way of calculating the probability of one (or more) event given the occurrence of another event (Conditional Probability) without knowing the probability of two (or more) simultaneous events (Joint Probability). \n",
    "\n",
    "For two events, $A$ and $B$, Bayes' theorem lets us go from $P(B|A)$ to $P(A|B)$ if we know the probability of an event irrespective of the outcomes of other random variables ( Marginal Probability ) of the outcomes of $A$ and the probability of $B$, given the outcomes of $A$. \n",
    "$$\n",
    "P(A|B)=\\frac{P(B|A)\\ P(A)}{P(B)}\n",
    "$$\n",
    "\n",
    "Where:\n",
    "\n",
    "$P(A|B)$ is referred to as the *Posterior Probability*, the conditional probability of A, given B.\n",
    "\n",
    "$P(A)$ is referred to as the *Prior Probability*, the marginal probability of A.\n",
    "\n",
    "$P(B|A)$ is the conditional probability of B given A.\n",
    "\n",
    "$P(B)$ is the prior or marginal probability of B, and acts as a normalizing constant. \n",
    "\n",
    "Naive Bayes Classifcation works by:\n",
    "\n",
    "1. Calculating the prior probability of each class\n",
    "\n",
    "2. Calculating the likelihood of each feature given each class\n",
    "\n",
    "3. Using Bayes' theorem to compute the posterior probability of each class for a given instance. \n",
    "\n",
    "([SOURCE](https://machinelearningmastery.com/bayes-theorem-for-machine-learning/))\n",
    "\n",
    "\n",
    "---\n",
    "\n",
    "### Hyperparameter Optimization\n",
    "\n",
    "**Randomized Search and Grid Search For Hyperparameters**\n",
    "\n",
    "Each of the 5 models and 2 transformers listed above have hyperparameters that can be tuned for greater model performance. \n",
    "\n",
    "In order to manage the tuning process in a rigorous yet practical manner we will use Randomized Search over the 5 models and 2 transformers to find the best performing model and parameters, and then pass that model into a GridSearch where we will more rigorously search over hyper parameters. Once our model and hyperparameters have been found, we will fit them to our training and test data.\n",
    "\n",
    "Randomized Search selects hyper parameters by sampling from a distribution of possible hyperparameters, but does not exhaustively use all combinations as a Grid Search will, and therefore is more efficient. Given our large datasets, time constraints and compute power, we believe this is the most practical and rigorous way to derive an effective model. \n",
    "\n",
    "---\n",
    "\n",
    "### Title vs. Selftext vs. Both\n",
    "\n",
    "One result of the EDA conducted in [Notebook_2](code/2_eda.ipynb) was the significant difference between the words used in titles between the two subreddits, with one hypothesis being that titles alone might have better classification power than just selftext or the combination of the two. \n",
    "\n",
    "This possibility will be explored below. However, as the initial random search and gridsearch process is quite computationally expensive, we cannot repeat the process outlined above for titles, selftext and the combination of two. So, we will initially use all available data (combining titles and self text), search for the highest performing transformer and evaluator, and then iterate over titles only, selftext only and both to find the highest performing model. While this isn't truly exhaustive, it is the only possible approach given the resources and time constraints available to this project. "
   ]
  },
  {
   "attachments": {},
   "cell_type": "markdown",
   "metadata": {},
   "source": [
    "### Train Test Split"
   ]
  },
  {
   "cell_type": "code",
   "execution_count": 4,
   "metadata": {},
   "outputs": [],
   "source": [
    "# train test split\n",
    "X = df['title_lemmatized'] + ' ' + df['selftext_lemmatized']\n",
    "y = df['subreddit']\n",
    "\n",
    "X_train, X_test, y_train, y_test = train_test_split(X, y, random_state=42, stratify=y)"
   ]
  },
  {
   "cell_type": "code",
   "execution_count": 5,
   "metadata": {},
   "outputs": [
    {
     "data": {
      "text/plain": [
       "((14564,), (4855,), (14564,), (4855,))"
      ]
     },
     "execution_count": 5,
     "metadata": {},
     "output_type": "execute_result"
    }
   ],
   "source": [
    "X_train.shape, X_test.shape, y_train.shape, y_test.shape"
   ]
  },
  {
   "attachments": {},
   "cell_type": "markdown",
   "metadata": {},
   "source": [
    "In order to avoid overfitting our models, we first split the data using the training and testing paradigm. We will use 75% of the data for training the model and the last 25% out-of-sample portion for testing and evaluation. "
   ]
  },
  {
   "attachments": {},
   "cell_type": "markdown",
   "metadata": {},
   "source": [
    "### Baseline"
   ]
  },
  {
   "cell_type": "code",
   "execution_count": 6,
   "metadata": {},
   "outputs": [
    {
     "data": {
      "text/plain": [
       "wallstreetbets    0.507724\n",
       "investing         0.492276\n",
       "Name: subreddit, dtype: float64"
      ]
     },
     "execution_count": 6,
     "metadata": {},
     "output_type": "execute_result"
    }
   ],
   "source": [
    "y_test.value_counts(normalize=True)\n"
   ]
  },
  {
   "attachments": {},
   "cell_type": "markdown",
   "metadata": {},
   "source": [
    "We need a baseline to benchmark the predictive value of our classification models. We use a simple majority class baseline model. Above we see that the majority class, r/WallStreetBets is $.507$ % of the data, so if our model cannot attain an accuracy score of $.507$ we have no predictive power. "
   ]
  },
  {
   "attachments": {},
   "cell_type": "markdown",
   "metadata": {},
   "source": [
    "---"
   ]
  },
  {
   "attachments": {},
   "cell_type": "markdown",
   "metadata": {},
   "source": [
    "# I. - Random Search with `TfidfVectorizer`"
   ]
  },
  {
   "attachments": {},
   "cell_type": "markdown",
   "metadata": {},
   "source": [
    "### Pipeline Construction"
   ]
  },
  {
   "cell_type": "code",
   "execution_count": 7,
   "metadata": {},
   "outputs": [],
   "source": [
    "# pipelines for each estimator\n",
    "pipe_lr = Pipeline([\n",
    "    ('tvec', TfidfVectorizer(stop_words='english')),\n",
    "    ('lr', LogisticRegression(solver='liblinear'))\n",
    "])\n",
    "\n",
    "pipe_knn = Pipeline([\n",
    "    ('tvec', TfidfVectorizer(stop_words='english')),\n",
    "    ('knn', KNeighborsClassifier(n_jobs=-1))\n",
    "])\n",
    "\n",
    "pipe_rf = Pipeline([\n",
    "    ('tvec', TfidfVectorizer(stop_words='english')),\n",
    "    ('rf', RandomForestClassifier(n_jobs=-1))\n",
    "])\n",
    "\n",
    "pipe_nb = Pipeline([\n",
    "    ('tvec', TfidfVectorizer(stop_words='english')),\n",
    "    ('nb', MultinomialNB())\n",
    "])\n",
    "\n",
    "pipe_et = Pipeline([\n",
    "    ('tvec', TfidfVectorizer(stop_words='english')),\n",
    "    ('et', ExtraTreesClassifier(n_jobs=-1))\n",
    "])\n"
   ]
  },
  {
   "attachments": {},
   "cell_type": "markdown",
   "metadata": {},
   "source": [
    "### Hyperparameters to Search Over"
   ]
  },
  {
   "cell_type": "code",
   "execution_count": 8,
   "metadata": {},
   "outputs": [],
   "source": [
    "# logistic regression\n",
    "lr_params = {\n",
    "    'tvec__max_features': [1000, 2000, 3000, 4000, 5000],\n",
    "    'tvec__min_df': [2, 3],\n",
    "    'tvec__max_df': [.9, .95],\n",
    "    'tvec__ngram_range': [(1,1), (1,2)],\n",
    "    'lr__penalty': ['l1', 'l2'],\n",
    "    'lr__C': [1.0, 1.5, 2.0]\n",
    "}\n",
    "\n",
    "# knn\n",
    "knn_params = {\n",
    "    'tvec__max_features': [1000, 2000, 3000, 4000, 5000],\n",
    "    'tvec__min_df': [2, 3],\n",
    "    'tvec__max_df': [.9, .95],\n",
    "    'tvec__ngram_range': [(1,1), (1,2)],\n",
    "    'knn__n_neighbors': [5, 10, 15, 20, 25],\n",
    "    'knn__weights': ['uniform', 'distance']\n",
    "}\n",
    "\n",
    "# random forest\n",
    "rf_params = {\n",
    "    'tvec__max_features': [1000, 2000, 3000, 4000, 5000],\n",
    "    'tvec__min_df': [2, 3],\n",
    "    'tvec__max_df': [.9, .95],\n",
    "    'tvec__ngram_range': [(1,1), (1,2)],\n",
    "    'rf__n_estimators': [100, 200, 300, 400, 500],\n",
    "    'rf__max_depth': [None, 5, 10, 15, 20],\n",
    "    'rf__min_samples_split': [2, 3, 4],\n",
    "    'rf__min_samples_leaf': [1, 2, 3]\n",
    "}\n",
    "\n",
    "# naive bayes\n",
    "nb_params = {\n",
    "    'tvec__max_features': [1000, 2000, 3000, 4000, 5000],\n",
    "    'tvec__min_df': [2, 3],\n",
    "    'tvec__max_df': [.9, .95],\n",
    "    'tvec__ngram_range': [(1,1), (1,2)],\n",
    "    'nb__alpha': [1.0, 1.5, 2.0]\n",
    "}\n",
    "\n",
    "# extra trees\n",
    "et_params = {\n",
    "    'tvec__max_features': [1000, 2000, 3000, 4000, 5000],\n",
    "    'tvec__min_df': [2, 3],\n",
    "    'tvec__max_df': [.9, .95],\n",
    "    'tvec__ngram_range': [(1,1), (1,2)],\n",
    "    'et__n_estimators': [100, 200, 300, 400, 500],\n",
    "    'et__max_depth': [None, 5, 10, 15, 20],\n",
    "    'et__min_samples_split': [2, 3, 4],\n",
    "    'et__min_samples_leaf': [1, 2, 3]\n",
    "}"
   ]
  },
  {
   "attachments": {},
   "cell_type": "markdown",
   "metadata": {},
   "source": [
    "## Hyperparameters\n",
    "\n",
    "Hyperparameters are the various facets of a machine-learning model that can be adjusted to optimize performance. \n",
    "\n",
    "The above code block holds the various hyperparameter settings `RandomizedSearchCV` will search over. A brief explanation of the hyperparameters and intent follows:\n",
    "\n",
    "**TF-IDF Hyperparameters**\n",
    "\n",
    "`tvec_max_features` - Controls the maximum number of features (unique words or n-grams) the vectorizer will create. If we don't throttle the number of features we will easily have feature matrices that have over 60,000 columns and 10,000 rows. \n",
    "\n",
    "We don't have the compute power or time to process such a large amount of data so instead we will search over a range of features starting at 1,000 and scale up to 5,000 in increments of 1,000. \n",
    "\n",
    "`tvec_min_df` - Controls the minimum number of documents (rows in our input matrix) a word must appear in to be included as a feature. We search over a range of 2, 3 to reduce words that are not helpful. However, if we set this range too low we will introduce too much noise into the model. \n",
    "\n",
    "`tvec_max_df` - Controls the maximum portion of documents (selftext or titles or both) a word can appear in to be included by the vectorizer. If we lower this proportion our model includes more common words but missies important words. We will search over a proportion range of 90 to 95%. \n",
    "\n",
    "`tvec_ngram_range` - As explained in the EDA section in [Notebook_2](code/2_eda.ipynb), an n-gram is *a contiguous sequence of $n$ items from a given sample of text or speech* ([SOURCE](https://towardsdatascience.com/text-analysis-basics-in-python-443282942ec5)). We will search over a range of unigrams and unigrams *and* bigrams. \n",
    "\n",
    "**Logistic Regression Hyperparameters**\n",
    "\n",
    "`lr_penalty` - Modifies the type of regularization used by the logistic regression model. l1 refers to $\\lambda_1$ regularization, which adds penalties to the model based on the absolute value of the of the parameters, whereas l2 refers to the $\\lambda_2$ penalty, which add penalties to the model based on the squared values of the model's parameters. \n",
    "\n",
    "`lr_C` - Modulates the strength of the regularization applied to the model. A lower value means stronger regularization and a larger value means weaker regularization. We will search over a range of 1.0 to 2.0 incrementing by .5. \n",
    "\n",
    "**kNN Hyperparameters**\n",
    "\n",
    "`knn_n_neighbords` - Controls the number of \"nearest neighbors\" the model utilizes. A larger number will generally lead to a better fit, but also to longer compute time. We will randomly search from 5 to 25, incrementing in steps of 5. \n",
    "\n",
    "`knn_weights` - Controls the weight assigned to the nearest neighbor in the model. \"Uniform\" assigns each neighbor the same weight, whereas \"Distance\" assigns a weight that is inversely proportional to the distance from the query point. We will search over both. \n",
    "\n",
    "**Naive Bayes Hyperparameters**\n",
    "\n",
    "`nb_alpha` - Controls the \"smoothing\" applied to a likelihood calculation. A larger value reduces the model's sensitivity to noise but also reduces the model's ability to fit. We will search over a range of 1 to 2 incrementing in steps of .5. \n",
    "\n",
    "**Random Forest and Extra Trees Hyperparameters**\n",
    "\n",
    "`n_estimators` - Contorls the number of decision trees in the random forest. As we increase the number of trees we increase the model's complexity and compute time, we will search over a range of 100-500 incrementing in steps of 100.  \n",
    "\n",
    "`max_depth` - Max depth in a random forest is the longest path between the root node and leaf node. The deeper the tree, more splits it has and the more complex it becomes. This increases complexity and the possibility of overfitting. We will search from 5 to 20 in steps of 5 and also pass in `None`, which allows for unlimited depth. \n",
    "\n",
    "`min_samples_split` - Controls the minimum number of samples required to split an internal node in a decision tree. A larger value reduces the model's fit to the data. We will search over a range of 2, 3 and 4. \n",
    "\n",
    "`min_samples_lead` - Controls the minimum number of samples required to be a leaf node in a decision tree. A larger value reduces the model's fit to the data. We will search over a range of 1, 2, and 3. \n",
    "\n",
    "\n",
    "---\n",
    "\n",
    "**NOTE**\n",
    "\n",
    "There are more hyperparameters and options to explore, however given the size of the data set (14,654 rows in the training data) and our available compute power, what we have outlined above is the best we can manage. \n",
    "\n",
    "Sources:\n",
    "\n",
    "1. https://stackoverflow.com/questions/46480457/difference-between-min-samples-split-and-min-samples-leaf-in-sklearn-decisiontre\n",
    "2. https://www.analyticsvidhya.com/blog/2020/03/beginners-guide-random-forest-hyperparameter-tuning/#:~:text=The%20max_depth%20of%20a%20tree,my%20random%20forest%20to%20grow.\n",
    "3. https://blog.dataiku.com/narrowing-the-search-which-hyperparameters-really-matter\n",
    "4. https://towardsdatascience.com/hyperparameter-tuning-for-machine-learning-models-1b80d783b946\n",
    "\n"
   ]
  },
  {
   "attachments": {},
   "cell_type": "markdown",
   "metadata": {},
   "source": [
    "### Instantiate `RandomSearchCV`"
   ]
  },
  {
   "cell_type": "code",
   "execution_count": 9,
   "metadata": {},
   "outputs": [],
   "source": [
    "# instantiate estimators\n",
    "\n",
    "# logistic regression\n",
    "lr_rs = RandomizedSearchCV(pipe_lr, param_distributions=lr_params, cv=5, n_iter=50, verbose=1, n_jobs=-1)\n",
    "# knn\n",
    "knn_rs = RandomizedSearchCV(pipe_knn, param_distributions=knn_params, cv=5, n_iter=50, verbose=1, n_jobs=-1)\n",
    "# random forest\n",
    "rf_rs = RandomizedSearchCV(pipe_rf, param_distributions=rf_params, cv=5, n_iter=50, verbose=1, n_jobs=-1)\n",
    "# naive bayes\n",
    "nb_rs = RandomizedSearchCV(pipe_nb, param_distributions=nb_params, cv=5, n_iter=50, verbose=1, n_jobs=-1)\n",
    "# extra trees\n",
    "et_rs = RandomizedSearchCV(pipe_et, param_distributions=et_params, cv=5, n_iter=50, verbose=1, n_jobs=-1)"
   ]
  },
  {
   "attachments": {},
   "cell_type": "markdown",
   "metadata": {},
   "source": [
    "The above code instantiates a randomSearch over the pipelines and hyperparameters discussed above. "
   ]
  },
  {
   "attachments": {},
   "cell_type": "markdown",
   "metadata": {},
   "source": [
    "### Iterate Over Models"
   ]
  },
  {
   "cell_type": "code",
   "execution_count": 10,
   "metadata": {},
   "outputs": [],
   "source": [
    "# randoms = [lr_rs, knn_rs, rf_rs, nb_rs, et_rs]\n",
    "\n",
    "# dist_dict = {0: 'Logistic Regression', 1: 'KNN', 2: 'Random Forest', 3: 'Naive Bayes', 4: 'Extra Trees'}\n",
    "\n",
    "# for i, random in enumerate(randoms):\n",
    "#     print('Fitting', dist_dict[i])\n",
    "#     random.fit(X_train, y_train)\n",
    "#     print('Best score:', random.best_score_)\n",
    "#     print('Best params:', random.best_params_)\n",
    "#     print('Training score:', random.score(X_train, y_train))\n",
    "#     print('Testing score:', random.score(X_test, y_test))\n",
    "#     print('')"
   ]
  },
  {
   "cell_type": "code",
   "execution_count": 11,
   "metadata": {},
   "outputs": [],
   "source": [
    "# # save models to pickle\n",
    "\n",
    "# pickle.dump(lr_rs, open('../data/lr_rs.pkl', 'wb'))\n",
    "# pickle.dump(knn_rs, open('../data/knn_rs.pkl', 'wb'))\n",
    "# pickle.dump(rf_rs, open('../data/rf_rs.pkl', 'wb'))\n",
    "# pickle.dump(nb_rs, open('../data/nb_rs.pkl', 'wb'))\n",
    "# pickle.dump(et_rs, open('../data/et_rs.pkl', 'wb'))\n"
   ]
  },
  {
   "attachments": {},
   "cell_type": "markdown",
   "metadata": {},
   "source": [
    "The above code iterates over the pipelines holding the `TfidVectorizer`'s and evaluators and returns the results. This is a computationally expensive process and takes approximately 75 minutes to run on our machine, so the code was run once, the models saved to `.pkl` files, and then commented out. "
   ]
  },
  {
   "attachments": {},
   "cell_type": "markdown",
   "metadata": {},
   "source": [
    "## Random Search I. Results"
   ]
  },
  {
   "cell_type": "code",
   "execution_count": 12,
   "metadata": {},
   "outputs": [],
   "source": [
    "# open models from pickle\n",
    "\n",
    "lr_rs = pickle.load(open('../data/lr_rs.pkl', 'rb'))\n",
    "knn_rs = pickle.load(open('../data/knn_rs.pkl', 'rb'))\n",
    "rf_rs = pickle.load(open('../data/rf_rs.pkl', 'rb'))\n",
    "nb_rs = pickle.load(open('../data/nb_rs.pkl', 'rb'))\n",
    "et_rs = pickle.load(open('../data/et_rs.pkl', 'rb'))\n"
   ]
  },
  {
   "cell_type": "code",
   "execution_count": 13,
   "metadata": {},
   "outputs": [],
   "source": [
    "# results as dataframe\n",
    "results = pd.DataFrame({\n",
    "    'model': ['Logistic Regression', 'KNN', 'Random Forest', 'Naive Bayes', 'Extra Trees'],\n",
    "    'best_score': [lr_rs.best_score_, knn_rs.best_score_, rf_rs.best_score_, nb_rs.best_score_, et_rs.best_score_],\n",
    "    'train_score': [lr_rs.score(X_train, y_train), knn_rs.score(X_train, y_train), rf_rs.score(X_train, y_train), nb_rs.score(X_train, y_train), et_rs.score(X_train, y_train)],\n",
    "    'test_score': [lr_rs.score(X_test, y_test), knn_rs.score(X_test, y_test), rf_rs.score(X_test, y_test), nb_rs.score(X_test, y_test), et_rs.score(X_test, y_test)] \n",
    "})"
   ]
  },
  {
   "cell_type": "code",
   "execution_count": 56,
   "metadata": {},
   "outputs": [
    {
     "data": {
      "text/html": [
       "<div>\n",
       "<style scoped>\n",
       "    .dataframe tbody tr th:only-of-type {\n",
       "        vertical-align: middle;\n",
       "    }\n",
       "\n",
       "    .dataframe tbody tr th {\n",
       "        vertical-align: top;\n",
       "    }\n",
       "\n",
       "    .dataframe thead th {\n",
       "        text-align: right;\n",
       "    }\n",
       "</style>\n",
       "<table border=\"1\" class=\"dataframe\">\n",
       "  <thead>\n",
       "    <tr style=\"text-align: right;\">\n",
       "      <th></th>\n",
       "      <th>model</th>\n",
       "      <th>best_score</th>\n",
       "      <th>train_score</th>\n",
       "      <th>test_score</th>\n",
       "    </tr>\n",
       "  </thead>\n",
       "  <tbody>\n",
       "    <tr>\n",
       "      <th>0</th>\n",
       "      <td>Logistic Regression</td>\n",
       "      <td>0.864597</td>\n",
       "      <td>0.904079</td>\n",
       "      <td>0.878476</td>\n",
       "    </tr>\n",
       "    <tr>\n",
       "      <th>1</th>\n",
       "      <td>KNN</td>\n",
       "      <td>0.807882</td>\n",
       "      <td>0.825803</td>\n",
       "      <td>0.808033</td>\n",
       "    </tr>\n",
       "    <tr>\n",
       "      <th>2</th>\n",
       "      <td>Random Forest</td>\n",
       "      <td>0.856564</td>\n",
       "      <td>0.981392</td>\n",
       "      <td>0.864882</td>\n",
       "    </tr>\n",
       "    <tr>\n",
       "      <th>3</th>\n",
       "      <td>Naive Bayes</td>\n",
       "      <td>0.860203</td>\n",
       "      <td>0.880047</td>\n",
       "      <td>0.866323</td>\n",
       "    </tr>\n",
       "    <tr>\n",
       "      <th>4</th>\n",
       "      <td>Extra Trees</td>\n",
       "      <td>0.861919</td>\n",
       "      <td>0.968484</td>\n",
       "      <td>0.866941</td>\n",
       "    </tr>\n",
       "  </tbody>\n",
       "</table>\n",
       "</div>"
      ],
      "text/plain": [
       "                 model  best_score  train_score  test_score\n",
       "0  Logistic Regression    0.864597     0.904079    0.878476\n",
       "1                  KNN    0.807882     0.825803    0.808033\n",
       "2        Random Forest    0.856564     0.981392    0.864882\n",
       "3          Naive Bayes    0.860203     0.880047    0.866323\n",
       "4          Extra Trees    0.861919     0.968484    0.866941"
      ]
     },
     "metadata": {},
     "output_type": "display_data"
    },
    {
     "name": "stdout",
     "output_type": "stream",
     "text": [
      "Logistic Regression\n",
      "{'tvec__ngram_range': (1, 2), 'tvec__min_df': 2, 'tvec__max_features': 5000, 'tvec__max_df': 0.95, 'lr__penalty': 'l2', 'lr__C': 1.0}\n",
      "\n",
      "KNN\n",
      "{'tvec__ngram_range': (1, 1), 'tvec__min_df': 2, 'tvec__max_features': 4000, 'tvec__max_df': 0.95, 'knn__weights': 'uniform', 'knn__n_neighbors': 25}\n",
      "\n",
      "Random Forest\n",
      "{'tvec__ngram_range': (1, 1), 'tvec__min_df': 3, 'tvec__max_features': 4000, 'tvec__max_df': 0.95, 'rf__n_estimators': 200, 'rf__min_samples_split': 4, 'rf__min_samples_leaf': 2, 'rf__max_depth': None}\n",
      "\n",
      "Naive Bayes\n",
      "{'tvec__ngram_range': (1, 1), 'tvec__min_df': 3, 'tvec__max_features': 5000, 'tvec__max_df': 0.9, 'nb__alpha': 1.0}\n",
      "\n",
      "Extra Trees\n",
      "{'tvec__ngram_range': (1, 1), 'tvec__min_df': 2, 'tvec__max_features': 3000, 'tvec__max_df': 0.95, 'et__n_estimators': 500, 'et__min_samples_split': 2, 'et__min_samples_leaf': 3, 'et__max_depth': None}\n",
      "\n"
     ]
    }
   ],
   "source": [
    "# dictionary of models\n",
    "models = {\n",
    "    'Logistic Regression': lr_rs,\n",
    "    'KNN': knn_rs,\n",
    "    'Random Forest': rf_rs,\n",
    "    'Naive Bayes': nb_rs,\n",
    "    'Extra Trees': et_rs\n",
    "}\n",
    "\n",
    "display(results)\n",
    "\n",
    "# print best params for each model\n",
    "for model in models:\n",
    "    print(model)\n",
    "    print(models[model].best_params_)\n",
    "    print('')"
   ]
  },
  {
   "attachments": {},
   "cell_type": "markdown",
   "metadata": {},
   "source": [
    "### Random Search I. Result Analysis\n",
    "\n",
    "We computed 50 fits and 5 folds over randomly selected hyperparameters for each of our 5 models for a total of $250 \\times 5 = 1250$ fits to find the results presented above. \n",
    "\n",
    "We see that the top performing model was Logistic Regession with a Cross Validation accuracy score of .86, a training accuracy score of .90 and a test score of .87. The spread between the three scores suggests that while slightly overfit, the model generalizes well to unseen data. The worst performing model was KNN with a cross validation score of .80 a training score of .82 and a testing score of .80.\n",
    "\n",
    "From this RandomSearch process, we are able to recover the best performing hyper parameters, which are listed in the  dictionary printed above. We note that for our best performing model, Logistic Regression, the best hyperparameters were:\n",
    "\n",
    "`tvec__ngram_range`: (1, 2) - ( Unigrams and Bigrams )\n",
    "\n",
    "`tvec__min_df`: 2 -  ( min documents of 2 )\n",
    "\n",
    "`tvec__max_features`: 5000 - ( max features of 5000 )\n",
    "\n",
    "`tvec__max_df`: 0.95 - ( max document proportion of 0.95 )\n",
    "\n",
    "`lr__penalty`: 'l2', 'lr__C': 1.0 - ( $\\lambda_2$ penalty with a C value of 1.0, so little regularization strength )\n",
    "\n",
    "On balance, our models are performing quite well. All of the models returned cross-validation as well as test accuracy scores in the mid .80's -- significantly higher than our benchmark accuracy level of .50. Next, we will switch out the `TfidVectorizer` for a `CountVectorizer` to see if there is any significant gain in model performance. \n"
   ]
  },
  {
   "attachments": {},
   "cell_type": "markdown",
   "metadata": {},
   "source": [
    "---"
   ]
  },
  {
   "attachments": {},
   "cell_type": "markdown",
   "metadata": {},
   "source": [
    "# II. - Random Search with `CountVectorizer`"
   ]
  },
  {
   "attachments": {},
   "cell_type": "markdown",
   "metadata": {},
   "source": [
    "### Pipeline Construction"
   ]
  },
  {
   "cell_type": "code",
   "execution_count": 15,
   "metadata": {},
   "outputs": [],
   "source": [
    "# same thing but with CountVectorizer\n",
    "\n",
    "# pipelines\n",
    "pipe_lr_2 = Pipeline([\n",
    "    ('cvec', CountVectorizer(stop_words='english')),\n",
    "    ('lr', LogisticRegression(solver='liblinear'))\n",
    "])\n",
    "\n",
    "pipe_knn_2 = Pipeline([\n",
    "    ('cvec', CountVectorizer(stop_words='english')),\n",
    "    ('knn', KNeighborsClassifier())\n",
    "])\n",
    "\n",
    "pipe_rf_2 = Pipeline([\n",
    "    ('cvec', CountVectorizer(stop_words='english')),\n",
    "    ('rf', RandomForestClassifier())\n",
    "])\n",
    "\n",
    "pipe_nb_2 = Pipeline([\n",
    "    ('cvec', CountVectorizer(stop_words='english')),\n",
    "    ('nb', MultinomialNB())\n",
    "])\n",
    "\n",
    "pipe_et_2 = Pipeline([\n",
    "    ('cvec', CountVectorizer(stop_words='english')),\n",
    "    ('et', ExtraTreesClassifier())\n",
    "])"
   ]
  },
  {
   "attachments": {},
   "cell_type": "markdown",
   "metadata": {},
   "source": [
    "### Parameters to Search Over"
   ]
  },
  {
   "cell_type": "code",
   "execution_count": 16,
   "metadata": {},
   "outputs": [],
   "source": [
    "# parameters\n",
    "\n",
    "# logistic regression\n",
    "lr_params_2 = {\n",
    "    'cvec__max_features': [1000, 2000, 3000, 4000, 5000],\n",
    "    'cvec__min_df': [2, 3],\n",
    "    'cvec__max_df': [.9, .95],\n",
    "    'cvec__ngram_range': [(1,1), (1,2)],\n",
    "    'lr__penalty': ['l1', 'l2'],\n",
    "    'lr__C': [1.0, 1.5, 2.0],\n",
    "}\n",
    "\n",
    "# knn\n",
    "knn_params_2 = {\n",
    "    'cvec__max_features': [1000, 2000, 3000, 4000, 5000],\n",
    "    'cvec__min_df': [2, 3],\n",
    "    'cvec__max_df': [.9, .95],\n",
    "    'cvec__ngram_range': [(1,1), (1,2)],\n",
    "    'knn__n_neighbors': [5, 10, 15, 20, 25],\n",
    "    'knn__weights': ['uniform', 'distance'],\n",
    "\n",
    "}\n",
    "\n",
    "# random forest\n",
    "rf_params_2 = {\n",
    "    'cvec__max_features': [1000, 2000, 3000, 4000, 5000],\n",
    "    'cvec__min_df': [2, 3],\n",
    "    'cvec__max_df': [.9, .95],\n",
    "    'cvec__ngram_range': [(1,1), (1,2)],\n",
    "    'rf__n_estimators': [100, 200, 300, 400, 500],\n",
    "    'rf__max_depth': [None, 5, 10, 15, 20],\n",
    "    'rf__min_samples_split': [2, 3, 4],\n",
    "    'rf__min_samples_leaf': [1, 2, 3]\n",
    "}\n",
    "\n",
    "# naive bayes\n",
    "nb_params_2 = {\n",
    "    'cvec__max_features': [1000, 2000, 3000, 4000, 5000],\n",
    "    'cvec__min_df': [2, 3],\n",
    "    'cvec__max_df': [.9, .95],\n",
    "    'cvec__ngram_range': [(1,1), (1,2)],\n",
    "    'nb__alpha': [1.0, 1.5, 2.0]\n",
    "}\n",
    "\n",
    "# extra trees\n",
    "et_params_2 = {\n",
    "    'cvec__max_features': [1000, 2000, 3000, 4000, 5000],\n",
    "    'cvec__min_df': [2, 3],\n",
    "    'cvec__max_df': [.9, .95],\n",
    "    'cvec__ngram_range': [(1,1), (1,2)],\n",
    "    'et__n_estimators': [100, 200, 300, 400, 500],\n",
    "    'et__max_depth': [None, 5, 10, 15, 20],\n",
    "    'et__min_samples_split': [2, 3, 4],\n",
    "    'et__min_samples_leaf': [1, 2, 3]\n",
    "}\n"
   ]
  },
  {
   "attachments": {},
   "cell_type": "markdown",
   "metadata": {},
   "source": [
    "### Instantiate `RandomSearchCV`"
   ]
  },
  {
   "cell_type": "code",
   "execution_count": 17,
   "metadata": {},
   "outputs": [],
   "source": [
    "\n",
    "# logistic regression\n",
    "lr_rs_2 = RandomizedSearchCV(pipe_lr_2, param_distributions=lr_params_2, cv=5, n_iter=50, verbose=1, n_jobs=-1)\n",
    "# knn\n",
    "knn_rs_2 = RandomizedSearchCV(pipe_knn_2, param_distributions=knn_params_2, cv=5, n_iter=50, verbose=1, n_jobs=-1)\n",
    "# random forest\n",
    "rf_rs_2 = RandomizedSearchCV(pipe_rf_2, param_distributions=rf_params_2, cv=5, n_iter=50, verbose=1, n_jobs=-1)\n",
    "# naive bayes\n",
    "nb_rs_2 = RandomizedSearchCV(pipe_nb_2, param_distributions=nb_params_2, cv=5, n_iter=50, verbose=1, n_jobs=-1)\n",
    "# extra trees\n",
    "et_rs_2 = RandomizedSearchCV(pipe_et_2, param_distributions=et_params_2, cv=5, n_iter=50, verbose=1, n_jobs=-1)"
   ]
  },
  {
   "attachments": {},
   "cell_type": "markdown",
   "metadata": {},
   "source": [
    "### Iterate Over Models"
   ]
  },
  {
   "cell_type": "code",
   "execution_count": 18,
   "metadata": {},
   "outputs": [],
   "source": [
    "# fit\n",
    "\n",
    "# randoms_2 = [lr_rs_2, knn_rs_2, rf_rs_2, nb_rs_2, et_rs_2]\n",
    "\n",
    "# dist_dict = {0: 'Logistic Regression', 1: 'KNN', 2: 'Random Forest', 3: 'Naive Bayes', 4: 'Extra Trees'}\n",
    "\n",
    "# for i, random in enumerate(randoms_2):\n",
    "#     print('Fitting', dist_dict[i])\n",
    "#     random.fit(X_train, y_train)\n",
    "#     print('Best score:', random.best_score_)\n",
    "#     print('Best params:', random.best_params_)\n",
    "#     print('Training score:', random.score(X_train, y_train))\n",
    "#     print('Testing score:', random.score(X_test, y_test))\n",
    "#     print('')\n"
   ]
  },
  {
   "cell_type": "code",
   "execution_count": 19,
   "metadata": {},
   "outputs": [],
   "source": [
    "# save models to pickle\n",
    "\n",
    "# pickle.dump(lr_rs_2, open('../data/lr_rs_2.pkl', 'wb'))\n",
    "# pickle.dump(knn_rs_2, open('../data/knn_rs_2.pkl', 'wb'))\n",
    "# pickle.dump(rf_rs_2, open('../data/rf_rs_2.pkl', 'wb'))\n",
    "# pickle.dump(nb_rs_2, open('../data/nb_rs_2.pkl', 'wb'))\n",
    "# pickle.dump(et_rs_2, open('../data/et_rs_2.pkl', 'wb'))\n"
   ]
  },
  {
   "attachments": {},
   "cell_type": "markdown",
   "metadata": {},
   "source": [
    "### Load Model Results From `.pkl` Files"
   ]
  },
  {
   "cell_type": "code",
   "execution_count": 20,
   "metadata": {},
   "outputs": [],
   "source": [
    "# load models from pickle\n",
    "\n",
    "lr_rs_2 = pickle.load(open('../data/lr_rs_2.pkl', 'rb'))\n",
    "knn_rs_2 = pickle.load(open('../data/knn_rs_2.pkl', 'rb'))\n",
    "rf_rs_2 = pickle.load(open('../data/rf_rs_2.pkl', 'rb'))\n",
    "nb_rs_2 = pickle.load(open('../data/nb_rs_2.pkl', 'rb'))\n",
    "et_rs_2 = pickle.load(open('../data/et_rs_2.pkl', 'rb'))\n"
   ]
  },
  {
   "attachments": {},
   "cell_type": "markdown",
   "metadata": {},
   "source": [
    "##  Random Search II. Results"
   ]
  },
  {
   "cell_type": "code",
   "execution_count": 45,
   "metadata": {},
   "outputs": [],
   "source": [
    "# results as a dataframe\n",
    "\n",
    "results_2 = pd.DataFrame({\n",
    "    'model': ['Logistic Regression', 'KNN', 'Random Forest', 'Naive Bayes', 'Extra Trees'],\n",
    "    'best score': [lr_rs_2.best_score_, knn_rs_2.best_score_, rf_rs_2.best_score_, nb_rs_2.best_score_, et_rs_2.best_score_],\n",
    "    'training score': [lr_rs_2.score(X_train, y_train), knn_rs_2.score(X_train, y_train), rf_rs_2.score(X_train, y_train), nb_rs_2.score(X_train, y_train), et_rs_2.score(X_train, y_train)],\n",
    "    'testing score': [lr_rs_2.score(X_test, y_test), knn_rs_2.score(X_test, y_test), rf_rs_2.score(X_test, y_test), nb_rs_2.score(X_test, y_test), et_rs_2.score(X_test, y_test)]\n",
    "})"
   ]
  },
  {
   "cell_type": "code",
   "execution_count": 51,
   "metadata": {},
   "outputs": [
    {
     "name": "stdout",
     "output_type": "stream",
     "text": [
      "Logistic Regression\n",
      "{'lr__penalty': 'l1', 'lr__C': 1.0, 'cvec__ngram_range': (1, 2), 'cvec__min_df': 2, 'cvec__max_features': 5000, 'cvec__max_df': 0.95}\n",
      "\n",
      "KNN\n",
      "{'knn__weights': 'distance', 'knn__n_neighbors': 5, 'cvec__ngram_range': (1, 1), 'cvec__min_df': 3, 'cvec__max_features': 1000, 'cvec__max_df': 0.9}\n",
      "\n",
      "Random Forest\n",
      "{'rf__n_estimators': 400, 'rf__min_samples_split': 2, 'rf__min_samples_leaf': 1, 'rf__max_depth': None, 'cvec__ngram_range': (1, 2), 'cvec__min_df': 2, 'cvec__max_features': 4000, 'cvec__max_df': 0.9}\n",
      "\n",
      "Naive Bayes\n",
      "{'nb__alpha': 1.0, 'cvec__ngram_range': (1, 2), 'cvec__min_df': 2, 'cvec__max_features': 5000, 'cvec__max_df': 0.95}\n",
      "\n",
      "Extra Trees\n",
      "{'et__n_estimators': 500, 'et__min_samples_split': 3, 'et__min_samples_leaf': 1, 'et__max_depth': None, 'cvec__ngram_range': (1, 1), 'cvec__min_df': 3, 'cvec__max_features': 5000, 'cvec__max_df': 0.9}\n",
      "\n"
     ]
    }
   ],
   "source": [
    "\n",
    "# dictionary of pickled models\n",
    "models_2 = {\n",
    "    'Logistic Regression': lr_rs_2,\n",
    "    'KNN': knn_rs_2,\n",
    "    'Random Forest': rf_rs_2,\n",
    "    'Naive Bayes': nb_rs_2,\n",
    "    'Extra Trees': et_rs_2\n",
    "}\n",
    "\n",
    "# print best params\n",
    "for model in models_2:\n",
    "    print(model)\n",
    "    print(models_2[model].best_params_)\n",
    "    print('')"
   ]
  },
  {
   "cell_type": "code",
   "execution_count": 46,
   "metadata": {},
   "outputs": [
    {
     "data": {
      "text/html": [
       "<div>\n",
       "<style scoped>\n",
       "    .dataframe tbody tr th:only-of-type {\n",
       "        vertical-align: middle;\n",
       "    }\n",
       "\n",
       "    .dataframe tbody tr th {\n",
       "        vertical-align: top;\n",
       "    }\n",
       "\n",
       "    .dataframe thead th {\n",
       "        text-align: right;\n",
       "    }\n",
       "</style>\n",
       "<table border=\"1\" class=\"dataframe\">\n",
       "  <thead>\n",
       "    <tr style=\"text-align: right;\">\n",
       "      <th></th>\n",
       "      <th>model</th>\n",
       "      <th>best score</th>\n",
       "      <th>training score</th>\n",
       "      <th>testing score</th>\n",
       "    </tr>\n",
       "  </thead>\n",
       "  <tbody>\n",
       "    <tr>\n",
       "      <th>0</th>\n",
       "      <td>Logistic Regression</td>\n",
       "      <td>0.848668</td>\n",
       "      <td>0.951318</td>\n",
       "      <td>0.856231</td>\n",
       "    </tr>\n",
       "    <tr>\n",
       "      <th>1</th>\n",
       "      <td>KNN</td>\n",
       "      <td>0.658815</td>\n",
       "      <td>0.997871</td>\n",
       "      <td>0.669413</td>\n",
       "    </tr>\n",
       "    <tr>\n",
       "      <th>2</th>\n",
       "      <td>Random Forest</td>\n",
       "      <td>0.859722</td>\n",
       "      <td>0.997940</td>\n",
       "      <td>0.863852</td>\n",
       "    </tr>\n",
       "    <tr>\n",
       "      <th>3</th>\n",
       "      <td>Naive Bayes</td>\n",
       "      <td>0.861507</td>\n",
       "      <td>0.873043</td>\n",
       "      <td>0.864676</td>\n",
       "    </tr>\n",
       "    <tr>\n",
       "      <th>4</th>\n",
       "      <td>Extra Trees</td>\n",
       "      <td>0.865902</td>\n",
       "      <td>0.998009</td>\n",
       "      <td>0.870443</td>\n",
       "    </tr>\n",
       "  </tbody>\n",
       "</table>\n",
       "</div>"
      ],
      "text/plain": [
       "                 model  best score  training score  testing score\n",
       "0  Logistic Regression    0.848668        0.951318       0.856231\n",
       "1                  KNN    0.658815        0.997871       0.669413\n",
       "2        Random Forest    0.859722        0.997940       0.863852\n",
       "3          Naive Bayes    0.861507        0.873043       0.864676\n",
       "4          Extra Trees    0.865902        0.998009       0.870443"
      ]
     },
     "execution_count": 46,
     "metadata": {},
     "output_type": "execute_result"
    }
   ],
   "source": [
    "results_2"
   ]
  },
  {
   "attachments": {},
   "cell_type": "markdown",
   "metadata": {},
   "source": [
    "### Random Search II. Result Analysis\n",
    "\n",
    "We computed 50 fits and 5 folds over randomly selected hyperparameters for each of our 5 models for a total of $250 \\times 5 = 1250$ fits to find the results presented above. As with the first Random Search, this was a computationally expensive process, taking well over an hour to compute the 1250 fits on the large dataset. The results have been saved to `.pkl` files and the iterative code is commented out. \n",
    "\n",
    "Using the same hyperparameters as in the first randomsearch, we see that while our results are still quite good, the `CountVectorizer` accuracy scores are all slightly lower, with $k$-Nearest Neighbors *significantly* overfitting, with a training accuracy score of .99 and cross-validation and testing scores of .66. This is as expected as the `TfidVectorizer` is a more sophisticated implementation of the `CountVectorizer`.\n",
    "\n",
    "The results from the two random search efforts suggest two things:\n",
    "1. The `TfidVectorizer` delivers superior results.\n",
    "2. Logistic Regression is our best performing model. \n",
    "\n",
    "Next, we will run a thorough GridSearch over our best performing transformer and estimator, the `TfidVectorizer` and `LogisticRegression`. "
   ]
  },
  {
   "attachments": {},
   "cell_type": "markdown",
   "metadata": {},
   "source": [
    "---"
   ]
  },
  {
   "attachments": {},
   "cell_type": "markdown",
   "metadata": {},
   "source": [
    "# III. - GridSearch for Logistic Regression"
   ]
  },
  {
   "attachments": {},
   "cell_type": "markdown",
   "metadata": {},
   "source": [
    "### Pipeline Construction and GridsearchCV Instantiation"
   ]
  },
  {
   "cell_type": "code",
   "execution_count": 23,
   "metadata": {},
   "outputs": [],
   "source": [
    "# new pipeline for tfidf and logistic regression with best params\n",
    "\n",
    "pipe_lr_3 = Pipeline([\n",
    "    ('tvec', TfidfVectorizer(stop_words='english')),\n",
    "    ('lr', LogisticRegression())\n",
    "])\n",
    "\n",
    "# logistic regression\n",
    "lr_params_3 = {\n",
    "    'tvec__max_features': [1000, 2000, 3000, 4000, 5000],\n",
    "    'tvec__min_df': [1, 2, 3],\n",
    "    'tvec__max_df': [.9, .95, 1.0],\n",
    "    'tvec__ngram_range': [(1,1), (1,2), (2,2)],\n",
    "    'lr__penalty': ['l1', 'l2', 'none'],\n",
    "    'lr__C': [0.001, 0.01, 1.0],\n",
    "    'lr__solver': ['lbfgs','liblinear', 'sag']\n",
    "\n",
    "}\n",
    "\n",
    "# grid search with logistic regression\n",
    "\n",
    "lr_gs_3 = GridSearchCV(pipe_lr_3, param_grid=lr_params_3, cv=5, verbose=1, n_jobs=-1)\n"
   ]
  },
  {
   "attachments": {},
   "cell_type": "markdown",
   "metadata": {},
   "source": [
    "Now that we have found that the `TfidfVectorizer` and `LogisticRegression` pipeline is the best performing transformer and evaluator combination, we will perform an exhaustive grid search over the hyperparameter space for both. \n",
    "\n",
    "`TfidfVectorizer` \n",
    "\n",
    "We found that the best performing `tvec__min_df` value was .95, so we will increase the search space to 1.0 and see if a higher value yields better results. Additionally we will search exclusively over bigrams as well as unigrams *and* bigrams by setting `tvec__ngram_range` to (1,1), (1,2), and (2,2). \n",
    "\n",
    "`LogisticRegression`\n",
    "\n",
    "We will explore all $\\lambda$ penalties as well other solver algorithms such as lbfgs (limited memory broyden fletcher goldfarb) and sag (stochastic average gradient), additionally we will increase the search space for $C$, the inverse regularization penalty to .001, .01 and 1.0. \n",
    "\n",
    "This gridsearch will be computationally expensive, we can calculate the number of fits as the combinatoric product of our hyper parameters, so we will end up fitting 1215 times for each solver, times 5 for cross validation and then times 3 for the number of solvers, for a total of 18,225 fits. Our machine fits a model every 5 seconds with a standard deviation of 1 second, so this GridSearch will take $\\approx$ 5 hours to complete."
   ]
  },
  {
   "attachments": {},
   "cell_type": "markdown",
   "metadata": {},
   "source": [
    "### Gridsearch"
   ]
  },
  {
   "cell_type": "code",
   "execution_count": 24,
   "metadata": {},
   "outputs": [],
   "source": [
    "# # fit\n",
    "# grids_3 = [lr_gs_3]\n",
    "\n",
    "# dist_dict = {0: 'Logistic Regression'}\n",
    "\n",
    "# for i, grid in enumerate(grids_3):\n",
    "#     print('Fitting', dist_dict[i])\n",
    "#     grid.fit(X_train, y_train)\n",
    "#     print('Best score:', grid.best_score_)\n",
    "#     print('Best params:', grid.best_params_)\n",
    "#     print('Training score:', grid.score(X_train, y_train))\n",
    "#     print('Testing score:', grid.score(X_test, y_test))\n",
    "#     print('')"
   ]
  },
  {
   "cell_type": "code",
   "execution_count": 25,
   "metadata": {},
   "outputs": [],
   "source": [
    "# # pickle model\n",
    "# pickle.dump(lr_gs_3, open('../data/lr_gs_3.pkl', 'wb'))"
   ]
  },
  {
   "attachments": {},
   "cell_type": "markdown",
   "metadata": {},
   "source": [
    "### Load Results From `.pkl` File"
   ]
  },
  {
   "cell_type": "code",
   "execution_count": 26,
   "metadata": {},
   "outputs": [],
   "source": [
    "# load model from pickle\n",
    "lr_gs_3 = pickle.load(open('../data/lr_gs_3.pkl', 'rb'))"
   ]
  },
  {
   "attachments": {},
   "cell_type": "markdown",
   "metadata": {},
   "source": [
    "## Gridsearch Results "
   ]
  },
  {
   "cell_type": "code",
   "execution_count": 73,
   "metadata": {},
   "outputs": [
    {
     "data": {
      "text/html": [
       "<div>\n",
       "<style scoped>\n",
       "    .dataframe tbody tr th:only-of-type {\n",
       "        vertical-align: middle;\n",
       "    }\n",
       "\n",
       "    .dataframe tbody tr th {\n",
       "        vertical-align: top;\n",
       "    }\n",
       "\n",
       "    .dataframe thead th {\n",
       "        text-align: right;\n",
       "    }\n",
       "</style>\n",
       "<table border=\"1\" class=\"dataframe\">\n",
       "  <thead>\n",
       "    <tr style=\"text-align: right;\">\n",
       "      <th></th>\n",
       "      <th>model</th>\n",
       "      <th>best score</th>\n",
       "      <th>training score</th>\n",
       "      <th>testing score</th>\n",
       "    </tr>\n",
       "  </thead>\n",
       "  <tbody>\n",
       "    <tr>\n",
       "      <th>0</th>\n",
       "      <td>Logistic Regression</td>\n",
       "      <td>0.864597</td>\n",
       "      <td>0.904079</td>\n",
       "      <td>0.878476</td>\n",
       "    </tr>\n",
       "  </tbody>\n",
       "</table>\n",
       "</div>"
      ],
      "text/plain": [
       "                 model  best score  training score  testing score\n",
       "0  Logistic Regression    0.864597        0.904079       0.878476"
      ]
     },
     "metadata": {},
     "output_type": "display_data"
    },
    {
     "data": {
      "text/plain": [
       "{'lr__C': 1.0,\n",
       " 'lr__penalty': 'l2',\n",
       " 'lr__solver': 'liblinear',\n",
       " 'tvec__max_df': 0.9,\n",
       " 'tvec__max_features': 5000,\n",
       " 'tvec__min_df': 2,\n",
       " 'tvec__ngram_range': (1, 2)}"
      ]
     },
     "execution_count": 73,
     "metadata": {},
     "output_type": "execute_result"
    }
   ],
   "source": [
    "final_results = pd.DataFrame(columns = ['model', 'best score', 'training score', 'testing score'], data = [['Logistic Regression', lr_gs_3.best_score_, lr_gs_3.score(X_train, y_train), lr_gs_3.score(X_test, y_test)]])\n",
    "\n",
    "display(final_results)\n",
    "lr_gs_3.best_params_"
   ]
  },
  {
   "attachments": {},
   "cell_type": "markdown",
   "metadata": {},
   "source": [
    "## Gridsearch Results Analysis\n",
    "\n",
    "After 18,250 fits our best results are presented above. Our tuned model achieved a cross-validation accuracy score of .86, a training accuracy score of .90 and a testing accuracy score of .878. The results suggest that our model is generalizing to unseen data quite well, and the small spread between testing and accuracy scores indicates that it is not overfit. \n",
    "\n",
    "In addition to our accuracy scores we see the best parameters selected by the grid search. \n",
    "\n",
    "`lr__C`: 1.0, - (Low Regularization strength)\n",
    "\n",
    "`lr__penalty`: 'l2', ($\\lambda_2$ penalty)\n",
    "\n",
    "`lr__solver`: 'liblinear', (liblinear solver over sag and lbfgs)\n",
    "\n",
    "`tvec__max_df`: 0.9, (max feature proportion of .90)\n",
    "\n",
    "`tvec__max_features`: 5000, (max vectorized feature amount of 5000)\n",
    "\n",
    "`tvec__min_df`: 2, (min documents of 2)\n",
    "\n",
    "`tvec__ngram_range`: (1, 2) (Using unigrams and bigrams)"
   ]
  },
  {
   "attachments": {},
   "cell_type": "markdown",
   "metadata": {},
   "source": [
    "# IV. Title vs. Selftext"
   ]
  },
  {
   "cell_type": "code",
   "execution_count": null,
   "metadata": {},
   "outputs": [],
   "source": [
    "{'rf__n_estimators': 400, 'rf__min_samples_split': 2, 'rf__min_samples_leaf': 1, 'rf__max_depth': None, 'cvec__ngram_range': (1, 2), 'cvec__min_df': 2, 'cvec__max_features': 4000, 'cvec__max_df': 0.9}"
   ]
  },
  {
   "cell_type": "code",
   "execution_count": 79,
   "metadata": {},
   "outputs": [
    {
     "name": "stdout",
     "output_type": "stream",
     "text": [
      "title\n",
      "Training score: 0.8610958527876957\n",
      "Testing score: 0.8076210092687951\n",
      "\n",
      "title_lemmatized\n",
      "Training score: 0.8582806921175501\n",
      "Testing score: 0.8028836251287332\n",
      "\n",
      "selftext\n",
      "Training score: 0.9005767646251029\n",
      "Testing score: 0.8640576725025747\n",
      "\n",
      "selftext_lemmatized\n",
      "Training score: 0.895976380115353\n",
      "Testing score: 0.8644696189495366\n",
      "\n"
     ]
    }
   ],
   "source": [
    "for x in ['title', 'title_lemmatized', 'selftext', 'selftext_lemmatized']:\n",
    "  \n",
    "    X_title = df[x]\n",
    "    y_title = df['subreddit']\n",
    "\n",
    "    X_title_train, X_title_test, y_title_train, y_title_test = train_test_split(X_title, y_title, random_state=42, stratify=y_title)\n",
    "\n",
    "    # new pipeline for tfidf and logistic regression with best params\n",
    "\n",
    "    pipe_lr_4 = Pipeline([\n",
    "        ('tvec', TfidfVectorizer(stop_words='english', max_features=5000, min_df=2, max_df=0.9, ngram_range=(1,2))),\n",
    "        ('lr', LogisticRegression(penalty='l2', C=1.0, solver='liblinear'))\n",
    "    ])\n",
    "\n",
    "    # fit\n",
    "    pipe_lr_4.fit(X_title_train, y_title_train)\n",
    "    print(x)\n",
    "    print('Training score:', pipe_lr_4.score(X_title_train, y_title_train))\n",
    "    print('Testing score:', pipe_lr_4.score(X_title_test, y_title_test))\n",
    "    print('')\n"
   ]
  },
  {
   "attachments": {},
   "cell_type": "markdown",
   "metadata": {},
   "source": [
    "### Text Feature Combination\n",
    "\n",
    "The final element to test is whether a subreddit's title vs. selftext vs. the combination of the two provides superior classification power. The above code block iterates though the lemmatized and non-lemmatized variations of the posts' titles and self texts, using a `TfidfVectorizer` and `Logistic Regression` using the parameters we grid searched for. \n",
    "\n",
    "As we see from the results above, the title alone, in either the lemmatized or unlemmatized version does not improve the classification power of the model, rather, it hinders it. We achieve superior results using the lemmatized self text, however this accuracy score is still less than the gridsearched score using all of the provided subreddit text.\n",
    "\n",
    "### Summary \n",
    "\n",
    "We are now ready to move to our final production model. \n",
    "\n",
    "Using rigorous RandomSearch and GridSearch methods, we have established the following:\n",
    "1. Logistic Regression and the TF-IDF vectorization deliver the best classification results on our dataset.\n",
    "2. The lemmatized text provides greater classifcation accuracy than the non-lemmatized text, and more text is better than less text.\n",
    "\n",
    "---"
   ]
  },
  {
   "attachments": {},
   "cell_type": "markdown",
   "metadata": {},
   "source": [
    "# V. Final Production Model"
   ]
  },
  {
   "attachments": {},
   "cell_type": "markdown",
   "metadata": {},
   "source": [
    "### Accuracy Scores and Classification Report"
   ]
  },
  {
   "cell_type": "code",
   "execution_count": 171,
   "metadata": {},
   "outputs": [
    {
     "name": "stdout",
     "output_type": "stream",
     "text": [
      "Training Accuracy Score: 0.9040785498489426\n",
      "Testing Accuracy Score: 0.878475798146241\n",
      "                precision    recall  f1-score   support\n",
      "\n",
      "     investing       0.86      0.89      0.88      2390\n",
      "wallstreetbets       0.89      0.86      0.88      2465\n",
      "\n",
      "      accuracy                           0.88      4855\n",
      "     macro avg       0.88      0.88      0.88      4855\n",
      "  weighted avg       0.88      0.88      0.88      4855\n",
      "\n"
     ]
    }
   ],
   "source": [
    "# final pipeline for tfidf and logistic regression with best params\n",
    "pipe_lr_4 = Pipeline([\n",
    "    ('tvec', TfidfVectorizer(stop_words='english', max_features= 5_000, min_df=2, max_df=0.9, ngram_range=(1,2))),\n",
    "    ('lr', LogisticRegression(penalty='l2', C=1.0, solver='liblinear'))\n",
    "])\n",
    "\n",
    "# fit\n",
    "pipe_lr_4.fit(X_train, y_train)\n",
    "\n",
    "# score\n",
    "print('Training Accuracy Score:', pipe_lr_4.score(X_train, y_train))\n",
    "print('Testing Accuracy Score:', pipe_lr_4.score(X_test, y_test))\n",
    "\n",
    "# classification report\n",
    "\n",
    "y_pred = pipe_lr_4.predict(X_test)\n",
    "\n",
    "print(classification_report(y_test, y_pred))"
   ]
  },
  {
   "attachments": {},
   "cell_type": "markdown",
   "metadata": {},
   "source": [
    "**Accuracy** \n",
    "\n",
    "Accuracy is the proportion of correctly classified samples. We calculate accuracy as (true positives + true negatives) / (true positives + true negatives + false positives + false negatives)\n",
    "\n",
    "The above results indicate that our model performs quite well. We have an accuracy score of .90 on the training data and an accuracy score of .878 on the out-of-sample test data, so our model generalizes well. \n",
    "\n",
    "The above classification report table presents additional and valuable information:\n",
    "\n",
    "\n",
    "**Precision**\n",
    "\n",
    "Precision is the number of true positives divided by the sum of the true positives and false positives. The production model achieved a precision of .86 for r/Investing and .89 for r/WallStreetBets, suggesting the model is fairly accurate at predicting either class, but slightly more precise at predicting r/WallStreetBets.\n",
    "\n",
    "**Recall**\n",
    "\n",
    "Recall is the model's ability to correctly identify instances of the positive class in the dataset and is calculated by taking the number of true positives and dividing it by the sum of the true positives and false negatives. The model has a recall score of .89 for r/investing and .86 for r/wallstreetbets which means we correctly identify most instances of each subreddit. \n",
    "\n",
    "**f1-score** \n",
    "\n",
    "The F-1 score is the harmonic mean of precision and recall and is bound between 0 and 1. Our f1-score of .88 suggests the model is well balanced between precision and recall. \n",
    "\n",
    "**Support** \n",
    "\n",
    "Support is the number of samples of each class in the dataset. We have a good balance of class proportion in our dataset. "
   ]
  },
  {
   "attachments": {},
   "cell_type": "markdown",
   "metadata": {},
   "source": [
    "### Confusion Matrix"
   ]
  },
  {
   "cell_type": "code",
   "execution_count": 68,
   "metadata": {},
   "outputs": [
    {
     "data": {
      "image/png": "[encoded data removed]",
      "text/plain": [
       "<Figure size 640x480 with 2 Axes>"
      ]
     },
     "metadata": {},
     "output_type": "display_data"
    }
   ],
   "source": [
    "# confusion matrix display\n",
    "cm = confusion_matrix(y_test, pipe_lr_4.predict(X_test))\n",
    "cm_display = ConfusionMatrixDisplay(cm, display_labels=pipe_lr_4.classes_).plot()"
   ]
  },
  {
   "cell_type": "code",
   "execution_count": 182,
   "metadata": {},
   "outputs": [
    {
     "name": "stdout",
     "output_type": "stream",
     "text": [
      "Percent of WallStreetBets posts correctly classified: 0.89\n",
      "Percent of Investing posts correctly classified: 0.86\n"
     ]
    }
   ],
   "source": [
    "# percent of wallstreetbets posts correctly classified\n",
    "print('Percent of WallStreetBets posts correctly classified:', round(cm[0][0] / (cm[0][0] + cm[0][1]), 2))\n",
    "\n",
    "# percent of investing posts correctly classified\n",
    "print('Percent of Investing posts correctly classified:', round(cm[1][1] / (cm[1][0] + cm[1][1]), 2))"
   ]
  },
  {
   "attachments": {},
   "cell_type": "markdown",
   "metadata": {},
   "source": [
    "The above confusion matrix is a visual representation of the correct and incorrect classifications our model has made. The diagonal elements are the the correct classifications and the off-diagonal elements are the incorrect observations.\n",
    "\n",
    "Our model errors slightly more often predicting r/Investing than r/WallStreetBets but is fairly balanced. In order to investigate what use of language might be throwing the model's classifications, we investigate below:"
   ]
  },
  {
   "attachments": {},
   "cell_type": "markdown",
   "metadata": {},
   "source": [
    "### Common Words in Correct and Incorrect Classifications"
   ]
  },
  {
   "cell_type": "code",
   "execution_count": 127,
   "metadata": {},
   "outputs": [],
   "source": [
    "prod_results = pd.DataFrame(y_test.copy())\n",
    "\n",
    "prod_results['text'] = X_test.copy()\n",
    "\n",
    "prod_results['pred'] = pipe_lr_4.predict(X_test)\n",
    "\n",
    "prod_results['correct'] = prod_results['subreddit'] == prod_results['pred']"
   ]
  },
  {
   "cell_type": "code",
   "execution_count": 190,
   "metadata": {},
   "outputs": [],
   "source": [
    "def common_words_right_wrong(df, subreddit, correct):\n",
    "    '''\n",
    "    Returns the most common words in a subreddit's posts that were correctly or incorrectly classified.\n",
    "    '''\n",
    "    if correct == True:\n",
    "        df = df.query('subreddit == @subreddit & correct == True')\n",
    "    else:\n",
    "        df = df.query('subreddit == @subreddit & correct == False')\n",
    "    \n",
    "    cvec = CountVectorizer(stop_words='english', max_features=5000, min_df=2, max_df=0.9, ngram_range=(1,2))\n",
    "    cvec.fit(df['text'])\n",
    "    df_cvec = pd.DataFrame(cvec.transform(df['text']).todense(), columns=cvec.get_feature_names_out())\n",
    "    \n",
    "    return df_cvec.sum().sort_values(ascending=False).head(20)\n"
   ]
  },
  {
   "attachments": {},
   "cell_type": "markdown",
   "metadata": {},
   "source": [
    "Common Words when r/WallStreetBets correctly Classified"
   ]
  },
  {
   "cell_type": "code",
   "execution_count": 191,
   "metadata": {},
   "outputs": [
    {
     "data": {
      "text/plain": [
       "buy       1270\n",
       "make       966\n",
       "just       948\n",
       "stock      877\n",
       "market     830\n",
       "day        808\n",
       "like       783\n",
       "know       750\n",
       "money      746\n",
       "https      686\n",
       "time       677\n",
       "fuck       651\n",
       "week       614\n",
       "think      612\n",
       "sell       608\n",
       "good       605\n",
       "amp        594\n",
       "option     585\n",
       "say        570\n",
       "url        568\n",
       "dtype: int64"
      ]
     },
     "execution_count": 191,
     "metadata": {},
     "output_type": "execute_result"
    }
   ],
   "source": [
    "# common words in right predictions for wallstreetbets\n",
    "common_words_right_wrong(prod_results, 'wallstreetbets', True)"
   ]
  },
  {
   "attachments": {},
   "cell_type": "markdown",
   "metadata": {},
   "source": [
    "Common words when r/WallStreetBets Incorrectly Classified"
   ]
  },
  {
   "cell_type": "code",
   "execution_count": 192,
   "metadata": {},
   "outputs": [
    {
     "data": {
      "text/plain": [
       "stock      379\n",
       "company    275\n",
       "market     250\n",
       "share      183\n",
       "year       175\n",
       "price      171\n",
       "buy        165\n",
       "make       162\n",
       "like       161\n",
       "url        148\n",
       "just       147\n",
       "sell       142\n",
       "good       133\n",
       "look       131\n",
       "say        130\n",
       "use        129\n",
       "think      128\n",
       "million    127\n",
       "money      126\n",
       "invest     115\n",
       "dtype: int64"
      ]
     },
     "execution_count": 192,
     "metadata": {},
     "output_type": "execute_result"
    }
   ],
   "source": [
    "common_words_right_wrong(prod_results, 'wallstreetbets', False)"
   ]
  },
  {
   "attachments": {},
   "cell_type": "markdown",
   "metadata": {},
   "source": [
    "As we view the most common words from a correct/incorrect r/WallStreetBets classification, we notice a few things. \n",
    "\n",
    "**Correct**\n",
    "1. The presence of profanity\n",
    "2. The presence of the word option, an investment instrument favored by WallStreetBettors.\n",
    "\n",
    "**Incorrect**\n",
    "\n",
    "1. The presence of words like invest\n",
    "2. The lack of profanity \n"
   ]
  },
  {
   "attachments": {},
   "cell_type": "markdown",
   "metadata": {},
   "source": [
    "Common Words when r/Investing Correctly Classified"
   ]
  },
  {
   "cell_type": "code",
   "execution_count": 193,
   "metadata": {},
   "outputs": [
    {
     "data": {
      "text/plain": [
       "stock         2193\n",
       "invest        1519\n",
       "company       1463\n",
       "market        1309\n",
       "year          1257\n",
       "like          1153\n",
       "fund           997\n",
       "just           995\n",
       "make           933\n",
       "buy            924\n",
       "share          913\n",
       "money          883\n",
       "good           828\n",
       "look           811\n",
       "investment     793\n",
       "think          764\n",
       "time           759\n",
       "know           748\n",
       "price          740\n",
       "say            700\n",
       "dtype: int64"
      ]
     },
     "execution_count": 193,
     "metadata": {},
     "output_type": "execute_result"
    }
   ],
   "source": [
    "common_words_right_wrong(prod_results, 'investing', True)"
   ]
  },
  {
   "attachments": {},
   "cell_type": "markdown",
   "metadata": {},
   "source": [
    "Common Words when r/Investing Incorrectly Classified"
   ]
  },
  {
   "cell_type": "code",
   "execution_count": 206,
   "metadata": {},
   "outputs": [
    {
     "data": {
      "text/plain": [
       "stock        179\n",
       "buy          145\n",
       "market       123\n",
       "just         120\n",
       "make         107\n",
       "url          101\n",
       "option        99\n",
       "like          97\n",
       "tesla         95\n",
       "think         90\n",
       "day           88\n",
       "amp           87\n",
       "price         77\n",
       "money         76\n",
       "time          75\n",
       "x200b         71\n",
       "amp x200b     71\n",
       "sell          70\n",
       "share         70\n",
       "know          67\n",
       "dtype: int64"
      ]
     },
     "execution_count": 206,
     "metadata": {},
     "output_type": "execute_result"
    }
   ],
   "source": [
    "common_words_right_wrong(prod_results, 'investing', False)"
   ]
  },
  {
   "attachments": {},
   "cell_type": "markdown",
   "metadata": {},
   "source": [
    "Above, we see that our model fails to classify r/Investing correctly when the posts make reference to terms more commonly seen in r/WallStreetBets. This includes words such as \"day\", \"option\" and \"tesla\". "
   ]
  },
  {
   "attachments": {},
   "cell_type": "markdown",
   "metadata": {},
   "source": [
    "### Feature Importance\n"
   ]
  },
  {
   "cell_type": "code",
   "execution_count": 223,
   "metadata": {},
   "outputs": [],
   "source": [
    "# What words are most indicative of a post being from wallstreetbets?\n",
    "\n",
    "# get coefficients\n",
    "lr_coef = pipe_lr_4.named_steps['lr'].coef_[0]\n",
    "\n",
    "# get feature names\n",
    "lr_features = pipe_lr_4.named_steps['tvec'].get_feature_names_out()\n",
    "\n",
    "# create dataframe of coefficients and features\n",
    "\n",
    "lr_coef_df = pd.DataFrame({'coef': lr_coef, 'feature': lr_features})\n",
    "\n",
    "# sort by coefficient\n",
    "lr_coef_df.sort_values('coef', ascending=False, inplace=True)\n",
    "\n",
    "# top 20 coefficients\n",
    "# lr_coef_df.head(20)"
   ]
  },
  {
   "attachments": {},
   "cell_type": "markdown",
   "metadata": {},
   "source": [
    "**Polite Society**\n",
    "\n",
    "The dataframe of coefficients ranked by importance is almost exclusively comprised of words that might be considered hurtful or offensive to potential readers of this notebook. As such, we will not print the output. Curious readers can contact the author or clone this notebook and run the code themselves. Of note however, is the lack of lemmatization amongst these profane words, suggesting NLTK's vocabulary does not include them, and it is possible that predictive accuracy might be lost due to this. "
   ]
  },
  {
   "attachments": {},
   "cell_type": "markdown",
   "metadata": {},
   "source": [
    "### ROC and AUC "
   ]
  },
  {
   "cell_type": "code",
   "execution_count": 71,
   "metadata": {},
   "outputs": [
    {
     "data": {
      "text/plain": [
       "Text(0.5, 1.0, 'ROC Curve')"
      ]
     },
     "execution_count": 71,
     "metadata": {},
     "output_type": "execute_result"
    },
    {
     "data": {
      "image/png": "[encoded data removed]",
      "text/plain": [
       "<Figure size 640x480 with 1 Axes>"
      ]
     },
     "metadata": {},
     "output_type": "display_data"
    }
   ],
   "source": [
    "# AUC and ROC\n",
    "ax = plt.gca()\n",
    "\n",
    "# Use RocCurveDisplay for both estimators\n",
    "RocCurveDisplay.from_estimator(lr_gs_3, X_test, y_test, \n",
    "                               ax=ax, name='logistic regression')\n",
    "\n",
    "# Add 'worst case scenario' line\n",
    "plt.plot([0,1], [0,1], label='no prediction value', \n",
    "         linestyle='--', color='gray')\n",
    "plt.legend()\n",
    "plt.title('ROC Curve')"
   ]
  },
  {
   "attachments": {},
   "cell_type": "markdown",
   "metadata": {},
   "source": [
    "The plot above is the ROC curve for our classification model. \n",
    "\n",
    "**ROC**\n",
    "\n",
    "ROC stands for \"Receiver Operator Characteristic\" and is a graphical representation of the classification ability of a binary classifier. The curve is created by plotting the true positive rate (the proportion of observations that were correctly predicted to be positive) against the false positive rate (the proportion of observations that are incorrectly predicted to be positive out of all negative observations). \n",
    "\n",
    "The ROC curve is a quick visual way to assess the trade-off between sensitivity and specificity. The closer the curve is to the upper-left corner, the better the performance of the model. Thus, we see that our model does quite well, as the worst possible model would lie along the 45 degree diagonal line, and our curve sits nicely in the upper left corner of the plot. \n",
    "\n",
    "**AUC**\n",
    "\n",
    "Additionally, we can calculate the Area Under the Curve (AUC), which is the probability that a randomly chosen positive instance is ranked higher than a randomly chosen negative instance. If a classifier is a perfect classifier, it will have a score of 1.0, if a classifier is completely random, it will have a score of 0.5. We see that our model has an AUC score of .94, which is quite good. \n",
    "\n",
    "([SOURCE](https://www.displayr.com/what-is-a-roc-curve-how-to-interpret-it/))"
   ]
  },
  {
   "attachments": {},
   "cell_type": "markdown",
   "metadata": {},
   "source": [
    "# Conclusion\n",
    "\n",
    "Using a rigorous search and fitting process, we have labored to produce a classification model that can predict whether a post is from r/Investing or r/WallStreetBets with an 87% level of accuracy. This level of accuracy is even better than expected, given the overall level of similarity was assessed at 81% in [notebook_2](2_eda.ipynb). \n",
    "\n",
    "From this iterative modeling process we can draw a few conclusions:\n",
    "\n",
    "1. Logistic Regression was the best performing model across the training and testing data splits amongst the five models we evaluated. \n",
    "\n",
    "2. The TF-IDF vectorizer's more nuanced approach to vectorization yielded better results than the Count Vectorizer.\n",
    "\n",
    "3. We achieve better classification accuracy using title and selftext from subreddit posts rather than one or the other. \n",
    "\n",
    "4. Our classification model breaks down when either subreddit uses general investment language. A r/WallStreetBets post devoid of profane language, references to options or short term investment strategies or any of the stock tickers frequently mentioned (such as TSLA or NKLA) becomes difficult to distinguish from a r/Investing post. Conversely, a r/Investing post that centers on options or tickers such as TSLA looks more like a r/WallStreetBets post to the classifier, and accuracy is lost. \n",
    "\n",
    "Thus, a high-performance spam-bot would best be programmed to use words that are strongly-r/WSB in a majority of its posts if it was endeavoring to pantomime a r/WallStreetBets post. These words might include options, or other leverage-centric investments terms. The bot should also use emojis such as a '🚀', '🙌', '🐻', '🐂', '💵', '🍗','💎' to reiterate its points or use idiomatic r/WallStreetBets terminology such as \"Tendies\", Stonks\" or acronyms such as \"DD\" (due diligence). The usage of these phrases or terms lends a post the WallStreetBet-ness that general personal finance posts in r/Investing do not have. Conversely a spam bot can effectively miminc a r/Investint post by *not* using r/WallStreetBets language.\n",
    "\n",
    "Put simply, a reddit personal finance post is just any other personal finance post *unless* it uses a word like *tendies* and then it immediately self-identifies itself as r/WallStreetBets. "
   ]
  }
 ],
 "metadata": {
  "kernelspec": {
   "display_name": "base",
   "language": "python",
   "name": "python3"
  },
  "language_info": {
   "codemirror_mode": {
    "name": "ipython",
    "version": 3
   },
   "file_extension": ".py",
   "mimetype": "text/x-python",
   "name": "python",
   "nbconvert_exporter": "python",
   "pygments_lexer": "ipython3",
   "version": "3.9.13 (main, Oct 13 2022, 21:23:06) [MSC v.1916 64 bit (AMD64)]"
  },
  "orig_nbformat": 4,
  "vscode": {
   "interpreter": {
    "hash": "cda0ac541ab6c535dcb4ffe1de6394d0d0ba460ea4bcec2c3250fd08f595b9ac"
   }
  }
 },
 "nbformat": 4,
 "nbformat_minor": 2
}
